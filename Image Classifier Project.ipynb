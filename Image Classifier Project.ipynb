{
  "nbformat": 4,
  "nbformat_minor": 0,
  "metadata": {
    "colab": {
      "name": "Image Classifier Project.ipynb",
      "version": "0.3.2",
      "provenance": [],
      "toc_visible": true
    },
    "kernelspec": {
      "name": "python3",
      "display_name": "Python 3"
    },
    "accelerator": "GPU"
  },
  "cells": [
    {
      "metadata": {
        "id": "kmQHA7RwPgRE",
        "colab_type": "text"
      },
      "cell_type": "markdown",
      "source": [
        "# Setup"
      ]
    },
    {
      "metadata": {
        "id": "07sB2n2IPgRG",
        "colab_type": "code",
        "outputId": "d41dea06-89ea-456f-c8b4-380270269ab6",
        "colab": {
          "base_uri": "https://localhost:8080/",
          "height": 71
        }
      },
      "cell_type": "code",
      "source": [
        "# http://pytorch.org/\n",
        "from os.path import exists\n",
        "from wheel.pep425tags import get_abbr_impl, get_impl_ver, get_abi_tag\n",
        "platform = '{}{}-{}'.format(get_abbr_impl(), get_impl_ver(), get_abi_tag())\n",
        "cuda_output = !ldconfig -p|grep cudart.so|sed -e 's/.*\\.\\([0-9]*\\)\\.\\([0-9]*\\)$/cu\\1\\2/'\n",
        "accelerator = cuda_output[0] if exists('/dev/nvidia0') else 'cpu'\n",
        "\n",
        "!pip install -q http://download.pytorch.org/whl/{accelerator}/torch-0.4.1-{platform}-linux_x86_64.whl torchvision\n",
        "\n",
        "!pip install pillow==4.1.1\n",
        "%reload_ext autoreload\n",
        "%autoreload  "
      ],
      "execution_count": 51,
      "outputs": [
        {
          "output_type": "stream",
          "text": [
            "Requirement already satisfied: pillow==4.1.1 in /usr/local/lib/python3.6/dist-packages (4.1.1)\n",
            "Requirement already satisfied: olefile in /usr/local/lib/python3.6/dist-packages (from pillow==4.1.1) (0.46)\n"
          ],
          "name": "stdout"
        }
      ]
    },
    {
      "metadata": {
        "id": "U2r01DBj8G4q",
        "colab_type": "text"
      },
      "cell_type": "markdown",
      "source": [
        "## External Storage access\n",
        "\n",
        "Get data from Google Drive to workspace and save checkpoint to Google Drive from workspace\n",
        "\n"
      ]
    },
    {
      "metadata": {
        "id": "qkaKGcYd7NRL",
        "colab_type": "code",
        "colab": {}
      },
      "cell_type": "code",
      "source": [
        "!pip install -U -q PyDrive\n",
        "\n",
        "from pydrive.auth import GoogleAuth\n",
        "from pydrive.drive import GoogleDrive\n",
        "from google.colab import auth\n",
        "from oauth2client.client import GoogleCredentials\n",
        "\n",
        "def init_workspace(loadfiles):\n",
        "  # 1. Authenticate and create the PyDrive client.\n",
        "  auth.authenticate_user()\n",
        "  gauth = GoogleAuth()\n",
        "  gauth.credentials = GoogleCredentials.get_application_default()\n",
        "  drive = GoogleDrive(gauth)\n",
        "\n",
        "  if loadfiles:\n",
        "    # 2. Load a zip image file by ID and unzip its contents.\n",
        "    dataFile = drive.CreateFile({'id': '1MWvJ0zpc_JL0VauYHB4JiOajQWKm-7p7'}).GetContentFile('flower_data.zip')\n",
        "    !unzip 'flower_data.zip'\n",
        "\n",
        "    # 3. Load the label file.\n",
        "    dataFile = drive.CreateFile({'id': '1nb19NViylUq9fZLia5faLm0_AJfky7Rj'}).GetContentFile('cat_to_name.json')\n",
        "  \n",
        "  return drive"
      ],
      "execution_count": 0,
      "outputs": []
    },
    {
      "metadata": {
        "id": "SCQJrt3VHauk",
        "colab_type": "code",
        "colab": {}
      },
      "cell_type": "code",
      "source": [
        "def save_to_gdrive(drive, filename):\n",
        "  # Create & upload a text file.\n",
        "  uploaded = drive.CreateFile()\n",
        "  uploaded.SetContentFile(filename)\n",
        "  uploaded.Upload()\n",
        "  print('Uploaded file with ID {}'.format(uploaded.get('id')))"
      ],
      "execution_count": 0,
      "outputs": []
    },
    {
      "metadata": {
        "id": "g_6ya4JcPgRN",
        "colab_type": "text"
      },
      "cell_type": "markdown",
      "source": [
        "# Developing an AI application\n",
        "\n",
        "Going forward, AI algorithms will be incorporated into more and more everyday applications. For example, you might want to include an image classifier in a smart phone app. To do this, you'd use a deep learning model trained on hundreds of thousands of images as part of the overall application architecture. A large part of software development in the future will be using these types of models as common parts of applications. \n",
        "\n",
        "In this project, you'll train an image classifier to recognize different species of flowers. You can imagine using something like this in a phone app that tells you the name of the flower your camera is looking at. In practice you'd train this classifier, then export it for use in your application. We'll be using [this dataset](http://www.robots.ox.ac.uk/~vgg/data/flowers/102/index.html) of 102 flower categories, you can see a few examples below. \n",
        "\n",
        "<img src='https://github.com/seetd/pytorch_challenge/blob/master/assets/Flowers.png?raw=1' width=500px>\n",
        "\n",
        "The project is broken down into multiple steps:\n",
        "\n",
        "* Load and preprocess the image dataset\n",
        "* Train the image classifier on your dataset\n",
        "* Use the trained classifier to predict image content\n",
        "\n",
        "We'll lead you through each part which you'll implement in Python.\n",
        "\n",
        "When you've completed this project, you'll have an application that can be trained on any set of labeled images. Here your network will be learning about flowers and end up as a command line application. But, what you do with your new skills depends on your imagination and effort in building a dataset. For example, imagine an app where you take a picture of a car, it tells you what the make and model is, then looks up information about it. Go build your own dataset and make something new.\n",
        "\n",
        "First up is importing the packages you'll need. It's good practice to keep all the imports at the beginning of your code. As you work through this notebook and find you need to import a package, make sure to add the import up here."
      ]
    },
    {
      "metadata": {
        "id": "xqLRumfdPgRP",
        "colab_type": "code",
        "colab": {}
      },
      "cell_type": "code",
      "source": [
        "%matplotlib inline\n",
        "\n",
        "# Imports here\n",
        "import matplotlib.pyplot as plt\n",
        "import numpy as np\n",
        "from time import time, ctime\n",
        "from collections import OrderedDict\n",
        "import os\n",
        "import json\n",
        "import copy\n",
        "\n",
        "from PIL import Image\n",
        "\n",
        "import torch\n",
        "from torch import nn, optim\n",
        "import torch.nn.functional as F\n",
        "from torch.utils.data import DataLoader\n",
        "\n",
        "import torchvision.datasets as ds\n",
        "import torchvision.transforms as transforms\n",
        "import torchvision.models as models"
      ],
      "execution_count": 0,
      "outputs": []
    },
    {
      "metadata": {
        "id": "YrUx8-uZPgRV",
        "colab_type": "text"
      },
      "cell_type": "markdown",
      "source": [
        "## Load the data\n",
        "\n",
        "Here you'll use `torchvision` to load the data ([documentation](http://pytorch.org/docs/0.3.0/torchvision/index.html)). You can [download the data here](https://s3.amazonaws.com/content.udacity-data.com/courses/nd188/flower_data.zip). The dataset is split into two parts, training and validation. For the training, you'll want to apply transformations such as random scaling, cropping, and flipping. This will help the network generalize leading to better performance. If you use a pre-trained network, you'll also need to make sure the input data is resized to 224x224 pixels as required by the networks.\n",
        "\n",
        "The validation set is used to measure the model's performance on data it hasn't seen yet. For this you don't want any scaling or rotation transformations, but you'll need to resize then crop the images to the appropriate size.\n",
        "\n",
        "The pre-trained networks available from `torchvision` were trained on the ImageNet dataset where each color channel was normalized separately. For both sets you'll need to normalize the means and standard deviations of the images to what the network expects. For the means, it's `[0.485, 0.456, 0.406]` and for the standard deviations `[0.229, 0.224, 0.225]`, calculated from the ImageNet images.  These values will shift each color channel to be centered at 0 and range from -1 to 1."
      ]
    },
    {
      "metadata": {
        "id": "--Byj8zVPgRc",
        "colab_type": "code",
        "colab": {}
      },
      "cell_type": "code",
      "source": [
        "# TODO: Define your transforms for the training and validation sets\n",
        "def prepare_data(device, phases, paths, input_size, batch_size):\n",
        "  data_transforms = {\n",
        "      'train': transforms.Compose([\n",
        "          transforms.RandomRotation(30),\n",
        "          transforms.RandomResizedCrop(input_size),\n",
        "          transforms.RandomHorizontalFlip(),\n",
        "          transforms.ToTensor(),\n",
        "          transforms.Normalize((0.485, 0.456, 0.406), (0.229, 0.224, 0.225))\n",
        "      ]),\n",
        "      'valid': transforms.Compose([\n",
        "          transforms.Resize(256),\n",
        "          transforms.CenterCrop(input_size),\n",
        "          transforms.ToTensor(),\n",
        "          transforms.Normalize((0.485, 0.456, 0.406), (0.229, 0.224, 0.225))\n",
        "      ]),\n",
        "  }\n",
        "\n",
        "  # TODO: Load the datasets with ImageFolder\n",
        "  datasets = {\n",
        "      phase: ds.ImageFolder(paths[phase], transform=data_transforms[phase])\n",
        "      for phase in phases\n",
        "  }\n",
        "  \n",
        "  data_loaders = {\n",
        "    phase: DataLoader(datasets[phase], batch_size=batch_size, shuffle=True, num_workers=4)   \n",
        "    for phase in phases\n",
        "  }\n",
        "    \n",
        "  return data_loaders"
      ],
      "execution_count": 0,
      "outputs": []
    },
    {
      "metadata": {
        "id": "5V1DCBozPgRi",
        "colab_type": "text"
      },
      "cell_type": "markdown",
      "source": [
        "### Label mapping\n",
        "\n",
        "You'll also need to load in a mapping from category label to category name. You can find this in the file `cat_to_name.json`. It's a JSON object which you can read in with the [`json` module](https://docs.python.org/2/library/json.html). This will give you a dictionary mapping the integer encoded categories to the actual names of the flowers."
      ]
    },
    {
      "metadata": {
        "id": "ENm4oUJHPgRl",
        "colab_type": "code",
        "colab": {}
      },
      "cell_type": "code",
      "source": [
        "def labels():\n",
        "  with open('cat_to_name.json', 'r') as f:\n",
        "    return json.load(f)"
      ],
      "execution_count": 0,
      "outputs": []
    },
    {
      "metadata": {
        "id": "CPX3rm1KPgRp",
        "colab_type": "text"
      },
      "cell_type": "markdown",
      "source": [
        "# Building and training the classifier\n",
        "\n",
        "Now that the data is ready, it's time to build and train the classifier. As usual, you should use one of the pretrained models from `torchvision.models` to get the image features. Build and train a new feed-forward classifier using those features.\n",
        "\n",
        "We're going to leave this part up to you. If you want to talk through it with someone, chat with your fellow students! You can also ask questions on the forums or join the instructors in office hours.\n",
        "\n",
        "Refer to [the rubric](https://review.udacity.com/#!/rubrics/1663/view) for guidance on successfully completing this section. Things you'll need to do:\n",
        "\n",
        "* Load a [pre-trained network](http://pytorch.org/docs/master/torchvision/models.html) (If you need a starting point, the VGG networks work great and are straightforward to use)\n",
        "* Define a new, untrained feed-forward network as a classifier, using ReLU activations and dropout\n",
        "* Train the classifier layers using backpropagation using the pre-trained network to get the features\n",
        "* Track the loss and accuracy on the validation set to determine the best hyperparameters\n",
        "\n",
        "We've left a cell open for you below, but use as many as you need. Our advice is to break the problem up into smaller parts you can run separately. Check that each part is doing what you expect, then move on to the next. You'll likely find that as you work through each part, you'll need to go back and modify your previous code. This is totally normal!\n",
        "\n",
        "When training make sure you're updating only the weights of the feed-forward network. You should be able to get the validation accuracy above 70% if you build everything right. Make sure to try different hyperparameters (learning rate, units in the classifier, epochs, etc) to find the best model. Save those hyperparameters to use as default values in the next part of the project."
      ]
    },
    {
      "metadata": {
        "id": "Qm0ljcckPgSV",
        "colab_type": "text"
      },
      "cell_type": "markdown",
      "source": [
        "## Loading the checkpoint\n",
        "\n",
        "At this point it's good to write a function that can load a checkpoint and rebuild the model. That way you can come back to this project and keep working on it without having to retrain the network."
      ]
    },
    {
      "metadata": {
        "id": "CwGZwXeQNKpE",
        "colab_type": "code",
        "colab": {}
      },
      "cell_type": "code",
      "source": [
        "# TODO: Write a function that loads a checkpoint and rebuilds the model\n",
        "def load_checkpoint(dataset, model, optimizer, filename='checkpoint.pth.tar'):\n",
        "    # Note: Input model & optimizer should be pre-defined.  This routine only updates their states.\n",
        "    start_epoch = 0\n",
        "    best_epoch = 0\n",
        "    best_acc = 0.0\n",
        "    class_to_idx = dataset.class_to_idx\n",
        "    \n",
        "    if os.path.isfile(filename):\n",
        "        print(\"=> loading checkpoint '{}'\".format(filename))\n",
        "        checkpoint = torch.load(filename)\n",
        "        start_epoch = checkpoint['current_epoch']\n",
        "        best_epoch = checkpoint['best_epoch']\n",
        "        best_acc = checkpoint['best_acc']\n",
        "        class_to_idx = checkpoint['class_to_idx']        \n",
        "        model.load_state_dict(checkpoint['state_dict'])\n",
        "        optimizer.load_state_dict(checkpoint['optimizer'])\n",
        "        print(\"=> loaded checkpoint '{}' (start_epoch {}, best_acc {} from best_epoch {})\".format(filename, start_epoch, best_acc, best_epoch))\n",
        "    else:\n",
        "        print(\"=> no checkpoint found at '{}'\".format(filename))\n",
        "\n",
        "    return model, optimizer, start_epoch, best_epoch, best_acc, class_to_idx"
      ],
      "execution_count": 0,
      "outputs": []
    },
    {
      "metadata": {
        "id": "YEhO_GjZPgSP",
        "colab_type": "text"
      },
      "cell_type": "markdown",
      "source": [
        "## Save the checkpoint\n",
        "\n",
        "Now that your network is trained, save the model so you can load it later for making predictions. You probably want to save other things such as the mapping of classes to indices which you get from one of the image datasets: `image_datasets['train'].class_to_idx`. You can attach this to the model as an attribute which makes inference easier later on.\n",
        "\n",
        "```model.class_to_idx = image_datasets['train'].class_to_idx```\n",
        "\n",
        "Remember that you'll want to completely rebuild the model later so you can use it for inference. Make sure to include any information you need in the checkpoint. If you want to load the model and keep training, you'll want to save the number of epochs as well as the optimizer state, `optimizer.state_dict`. You'll likely want to use this trained model in the next part of the project, so best to save it now."
      ]
    },
    {
      "metadata": {
        "id": "QtPx5RdnPgSQ",
        "colab_type": "code",
        "colab": {}
      },
      "cell_type": "code",
      "source": [
        "# TODO: Save the checkpoint \n",
        "def save_checkpoint(current_epoch, best_epoch, best_acc, dataset, model, optimizer, filename='checkpoint.pth.tar'):\n",
        "  state = {\n",
        "    'current_epoch': current_epoch,\n",
        "    'best_epoch': best_epoch,\n",
        "    'best_acc': best_acc,\n",
        "    'class_to_idx': dataset.class_to_idx,\n",
        "    'state_dict': model.state_dict(),\n",
        "    'optimizer': optimizer.state_dict()\n",
        "  }\n",
        "  torch.save(state, filename)"
      ],
      "execution_count": 0,
      "outputs": []
    },
    {
      "metadata": {
        "id": "hFfvSXURM22k",
        "colab_type": "text"
      },
      "cell_type": "markdown",
      "source": [
        "## Training\n",
        "\n",
        "Create all the code that are used for training"
      ]
    },
    {
      "metadata": {
        "id": "xagUHz0BPgRq",
        "colab_type": "code",
        "colab": {}
      },
      "cell_type": "code",
      "source": [
        "def train_model(phases, device, model, dataloaders, criterion, optimizer, start_epoch = 0, best_epoch=0, num_epochs=25, best_acc=0.0, is_inception=False):\n",
        "  since = time()\n",
        "  val_acc_history =[]\n",
        "  \n",
        "  best_model_wts = copy.deepcopy(model.state_dict())\n",
        "  best_optimzer_wts = copy.deepcopy(optimizer.state_dict())\n",
        "\n",
        "  print('Training started at {} with current best accuracy {} from epoch {}'.format(ctime(since), best_acc, best_epoch))\n",
        "  print('*' * 50)  \n",
        "  \n",
        "  for epoch in range(start_epoch, num_epochs):\n",
        "    since_epoch = time()\n",
        "    print('-' * 50)\n",
        "    print('Epoch {}/{} started at {}'.format(epoch, num_epochs - 1, ctime(since_epoch)))\n",
        "    \n",
        "    for phase in phases:\n",
        "      is_training = (phase == 'train')\n",
        "      \n",
        "      if is_training:\n",
        "        model.train()\n",
        "      else:\n",
        "        model.eval()\n",
        "        \n",
        "      running_loss = 0.0\n",
        "      running_corrects = 0\n",
        "\n",
        "      for inputs, labels in dataloaders[phase]:\n",
        "        inputs, labels = inputs.to(device), labels.to(device)\n",
        "        \n",
        "        # zero the parameter gradient for the optimizer\n",
        "        optimizer.zero_grad()\n",
        "        \n",
        "        # forward pass\n",
        "        # track history only during training\n",
        "        with torch.set_grad_enabled(is_training):\n",
        "          # Get model outputs and calculate loss\n",
        "          # Special case for inception because in training it has auxiliary output.\n",
        "          # So in train mode we calculate the loss by summing the final output and the auxiliary output\n",
        "          # but in testing we only consider the final outputl\n",
        "          if is_inception and is_training:\n",
        "            # From https://discuss.pytorch.org/t/how-to-optimize-inception-model-with-auxiliary-classifiers/7958\n",
        "            outputs, aux_outputs = model(inputs)\n",
        "            loss1 = criterion(outputs, labels)\n",
        "            loss2 = criterion(aux_outputs, labels)\n",
        "            loss = loss1 + 0.4 * loss2\n",
        "          else:\n",
        "            outputs = model(inputs)\n",
        "            loss = criterion(outputs, labels)\n",
        "          \n",
        "          _, preds = torch.max(outputs, 1)\n",
        "          \n",
        "          # backward + optimize during training\n",
        "          if is_training:\n",
        "            loss.backward()\n",
        "            optimizer.step()\n",
        "        \n",
        "        # statistics\n",
        "        running_loss += loss.item() * inputs.size(0)\n",
        "        running_corrects += torch.sum(preds == labels.data)\n",
        "        \n",
        "      epoch_loss = running_loss / len(dataloaders[phase].dataset)\n",
        "      epoch_acc = running_corrects.double()/ len(dataloaders[phase].dataset)\n",
        "      \n",
        "      print('{} Loss: {:.4f}, Acc: {:.4f}'.format(phase, epoch_loss, epoch_acc))\n",
        "      \n",
        "      if not is_training and epoch_acc > best_acc:\n",
        "        best_acc = epoch_acc\n",
        "        best_model_wts = copy.deepcopy(model.state_dict())\n",
        "        best_optimzer_wts = copy.deepcopy(optimizer.state_dict())\n",
        "        best_epoch = epoch\n",
        "      elif not is_training:\n",
        "        val_acc_history.append(epoch_acc)\n",
        "    \n",
        "    elapsed_epoch = time() - since_epoch\n",
        "    print('Epoch completed in {:.0f}m {:.0f}s at {}'.format(elapsed_epoch // 60, elapsed_epoch % 60, ctime(time())))\n",
        "    \n",
        "  elapsed_time = time() - since\n",
        "  print('Training complete in {:.0f}m {:.0f}s at {}'.format(elapsed_time // 60, elapsed_time % 60, ctime(time())))\n",
        "        \n",
        "  # load best model weights\n",
        "  model.load_state_dict(best_model_wts)\n",
        "  return model, val_acc_history, best_epoch, best_acc, best_model_wts, best_optimzer_wts"
      ],
      "execution_count": 0,
      "outputs": []
    },
    {
      "metadata": {
        "id": "Y0K1nHAQDoks",
        "colab_type": "text"
      },
      "cell_type": "markdown",
      "source": [
        "## Model"
      ]
    },
    {
      "metadata": {
        "id": "WIwFPkGjRYeY",
        "colab_type": "code",
        "colab": {}
      },
      "cell_type": "code",
      "source": [
        "def set_parameter_requires_grad(model, feature_extracting):\n",
        "  if feature_extracting:\n",
        "    for param in model.parameters():\n",
        "      param.requires_grad = False\n",
        "\n",
        "def resnet_init(num_layers, device, feature_extracting, num_of_classes=102):\n",
        "  model = None\n",
        "  if num_layers == 18:\n",
        "    model = models.resnet18(pretrained=True)\n",
        "    set_parameter_requires_grad(model, feature_extracting)\n",
        "    model.fc = nn.Linear(512, num_of_classes)\n",
        "\n",
        "  if num_layers == 34:\n",
        "    model = models.resnet34(pretrained=True)\n",
        "    set_parameter_requires_grad(model, feature_extracting)\n",
        "    model.fc = nn.Linear(512, num_of_classes)\n",
        "\n",
        "  if num_layers == 50:\n",
        "    model = models.resnet50(pretrained=True)\n",
        "    set_parameter_requires_grad(model, feature_extracting)\n",
        "    model.fc = nn.Linear(2048, num_of_classes)\n",
        "  \n",
        "  if num_layers == 101:\n",
        "    model = models.resnet101(pretrained=True)\n",
        "    set_parameter_requires_grad(model, feature_extracting)\n",
        "    model.fc = nn.Linear(2048, num_of_classes)\n",
        "  \n",
        "  if num_layers == 152:\n",
        "    model = models.resnet152(pretrained=True)\n",
        "    set_parameter_requires_grad(model, feature_extracting)\n",
        "    model.fc = nn.Linear(2048, num_of_classes)\n",
        "  \n",
        "  if model == None:\n",
        "    raise ValueError('{} number of layers is not supported'.format(num_layers))\n",
        "\n",
        "  model.to(device)\n",
        "    \n",
        "  # specify loss function\n",
        "  criterion = nn.CrossEntropyLoss()\n",
        "\n",
        "  # specify optimizer\n",
        "  optimizer = optim.SGD(model.fc.parameters(), lr=0.01)   \n",
        "  \n",
        "  return model, criterion, optimizer, 'resnet-{}'.format(num_layers), 224\n",
        "\n",
        "def densenet_init(num_layers, device, feature_extracting, num_of_classes=102):\n",
        "  model = None\n",
        "  if num_layers == 121:\n",
        "    model = models.densenet121(pretrained=True)\n",
        "    set_parameter_requires_grad(model, feature_extracting)\n",
        "    model.classifier = nn.Linear(1024, num_of_classes)\n",
        "\n",
        "  if num_layers == 161:\n",
        "    model = models.densenet161(pretrained=True)\n",
        "    set_parameter_requires_grad(model, feature_extracting)\n",
        "    model.classifier = nn.Linear(2208, num_of_classes) \n",
        "\n",
        "  if num_layers == 169:\n",
        "    model = models.densenet169(pretrained=True)\n",
        "    set_parameter_requires_grad(model, feature_extracting)\n",
        "    model.classifier = nn.Linear(1664, num_of_classes)\n",
        "    \n",
        "  if num_layers == 201:\n",
        "    model = models.densenet201(pretrained=True)\n",
        "    set_parameter_requires_grad(model, feature_extracting)\n",
        "    model.classifier = nn.Linear(1920, num_of_classes)\n",
        "  \n",
        "  if model == None:\n",
        "    raise ValueError('{} number of layers is not supported'.format(num_layers))\n",
        "  \n",
        "  model.to(device)\n",
        "    \n",
        "  # specify loss function\n",
        "  criterion = nn.CrossEntropyLoss()\n",
        "\n",
        "  # specify optimizer\n",
        "  optimizer = optim.SGD(model.classifier.parameters(), lr=0.01, momentum=0.7)      \n",
        "  \n",
        "  return model, criterion, optimizer, 'densenet-{}'.format(num_layers), 224"
      ],
      "execution_count": 0,
      "outputs": []
    },
    {
      "metadata": {
        "id": "xSWYof7PPgRX",
        "colab_type": "code",
        "colab": {}
      },
      "cell_type": "code",
      "source": [
        "# Flag for feature extracting. When False, we finetune the whole model,\n",
        "# when True we only update the reshaped layer params\n",
        "def execute(feature_extract, loadfiles=True):\n",
        "  drive = init_workspace(loadfiles);   # added ';' to suppress the unzip output\n",
        "  phases = [ 'train', 'valid' ]\n",
        "\n",
        "  # Used to provide a GPU/CPU agnostic code\n",
        "  device = torch.device(\"cuda\") if torch.cuda.is_available() else torch.device(\"cpu\")\n",
        "\n",
        "  # Data folders for use to train and validate the network\n",
        "  data_dir = 'flower_data'\n",
        "  paths = { x: data_dir + '/' + x for x in phases } \n",
        "\n",
        "  # Number of classes in the dataset\n",
        "  num_classes = 102  \n",
        "\n",
        "  # Batch size used in training (increasing this can improve accuracy while incurring more memory)\n",
        "  batch_size = 64\n",
        "  \n",
        "  # Number of epochs to train for\n",
        "  num_epochs = 50  \n",
        "  \n",
        "  # Network to use\n",
        "  model, criterion, optimizer, model_name, input_size  = densenet_init(161, device, feature_extract, num_classes)\n",
        "  filename = '{}.pth.tar'.format(model_name)\n",
        "  dataloaders = prepare_data(device, phases, paths, input_size, batch_size)\n",
        "  dataset = dataloaders['train'].dataset\n",
        "  model, optimizer, start_epoch, best_epoch, best_acc, class_to_idx = load_checkpoint(\n",
        "    dataset, model, optimizer, filename=filename\n",
        "  )\n",
        "  model, val_acc_history, best_epoch, best_acc, best_model_wts, best_optimzer_wts = train_model(\n",
        "    phases, device, model, dataloaders, criterion, optimizer, start_epoch, best_epoch, num_epochs, best_acc, False\n",
        "  )\n",
        "  save_checkpoint(num_epochs, best_epoch, best_acc, dataset, model, optimizer, filename=filename)\n",
        "  save_to_gdrive(drive, filename)"
      ],
      "execution_count": 0,
      "outputs": []
    },
    {
      "metadata": {
        "id": "XFhtdixlPLvx",
        "colab_type": "code",
        "outputId": "a27a6cbb-1041-4b3c-a767-303a7b839984",
        "colab": {
          "base_uri": "https://localhost:8080/",
          "height": 1448
        }
      },
      "cell_type": "code",
      "source": [
        "execute(True, False)"
      ],
      "execution_count": 73,
      "outputs": [
        {
          "output_type": "stream",
          "text": [
            "/usr/local/lib/python3.6/dist-packages/torchvision/models/densenet.py:212: UserWarning: nn.init.kaiming_normal is now deprecated in favor of nn.init.kaiming_normal_.\n",
            "  nn.init.kaiming_normal(m.weight.data)\n"
          ],
          "name": "stderr"
        },
        {
          "output_type": "stream",
          "text": [
            "=> loading checkpoint 'densenet-161.pth.tar'\n",
            "=> loaded checkpoint 'densenet-161.pth.tar' (start_epoch 35, best_acc 0.9633251833740831 from best_epoch 24)\n",
            "Training started at Sun Dec 23 06:22:50 2018 with current best accuracy 0.9633251833740831 from epoch 24\n",
            "**************************************************\n",
            "--------------------------------------------------\n",
            "Epoch 35/49 started at Sun Dec 23 06:22:50 2018\n",
            "train Loss: 0.3316, Acc: 0.9393\n",
            "valid Loss: 0.2346, Acc: 0.9572\n",
            "Epoch completed in 2m 3s at Sun Dec 23 06:24:53 2018\n",
            "--------------------------------------------------\n",
            "Epoch 36/49 started at Sun Dec 23 06:24:53 2018\n",
            "train Loss: 0.3077, Acc: 0.9444\n",
            "valid Loss: 0.2271, Acc: 0.9572\n",
            "Epoch completed in 2m 3s at Sun Dec 23 06:26:56 2018\n",
            "--------------------------------------------------\n",
            "Epoch 37/49 started at Sun Dec 23 06:26:56 2018\n",
            "train Loss: 0.3140, Acc: 0.9466\n",
            "valid Loss: 0.2218, Acc: 0.9548\n",
            "Epoch completed in 2m 3s at Sun Dec 23 06:28:59 2018\n",
            "--------------------------------------------------\n",
            "Epoch 38/49 started at Sun Dec 23 06:28:59 2018\n",
            "train Loss: 0.3022, Acc: 0.9461\n",
            "valid Loss: 0.2182, Acc: 0.9633\n",
            "Epoch completed in 2m 3s at Sun Dec 23 06:31:01 2018\n",
            "--------------------------------------------------\n",
            "Epoch 39/49 started at Sun Dec 23 06:31:01 2018\n",
            "train Loss: 0.2996, Acc: 0.9469\n",
            "valid Loss: 0.2150, Acc: 0.9609\n",
            "Epoch completed in 2m 3s at Sun Dec 23 06:33:04 2018\n",
            "--------------------------------------------------\n",
            "Epoch 40/49 started at Sun Dec 23 06:33:04 2018\n",
            "train Loss: 0.2963, Acc: 0.9466\n",
            "valid Loss: 0.2066, Acc: 0.9670\n",
            "Epoch completed in 2m 3s at Sun Dec 23 06:35:07 2018\n",
            "--------------------------------------------------\n",
            "Epoch 41/49 started at Sun Dec 23 06:35:07 2018\n",
            "train Loss: 0.2792, Acc: 0.9487\n",
            "valid Loss: 0.2115, Acc: 0.9597\n",
            "Epoch completed in 2m 3s at Sun Dec 23 06:37:10 2018\n",
            "--------------------------------------------------\n",
            "Epoch 42/49 started at Sun Dec 23 06:37:10 2018\n",
            "train Loss: 0.2951, Acc: 0.9440\n",
            "valid Loss: 0.2067, Acc: 0.9572\n",
            "Epoch completed in 2m 3s at Sun Dec 23 06:39:13 2018\n",
            "--------------------------------------------------\n",
            "Epoch 43/49 started at Sun Dec 23 06:39:13 2018\n",
            "train Loss: 0.2785, Acc: 0.9483\n",
            "valid Loss: 0.2020, Acc: 0.9572\n",
            "Epoch completed in 2m 3s at Sun Dec 23 06:41:16 2018\n",
            "--------------------------------------------------\n",
            "Epoch 44/49 started at Sun Dec 23 06:41:16 2018\n",
            "train Loss: 0.2857, Acc: 0.9461\n",
            "valid Loss: 0.2066, Acc: 0.9597\n",
            "Epoch completed in 2m 3s at Sun Dec 23 06:43:19 2018\n",
            "--------------------------------------------------\n",
            "Epoch 45/49 started at Sun Dec 23 06:43:19 2018\n",
            "train Loss: 0.2772, Acc: 0.9496\n",
            "valid Loss: 0.1973, Acc: 0.9597\n",
            "Epoch completed in 2m 3s at Sun Dec 23 06:45:22 2018\n",
            "--------------------------------------------------\n",
            "Epoch 46/49 started at Sun Dec 23 06:45:22 2018\n",
            "train Loss: 0.2865, Acc: 0.9449\n",
            "valid Loss: 0.1947, Acc: 0.9633\n",
            "Epoch completed in 2m 3s at Sun Dec 23 06:47:25 2018\n",
            "--------------------------------------------------\n",
            "Epoch 47/49 started at Sun Dec 23 06:47:25 2018\n",
            "train Loss: 0.2645, Acc: 0.9505\n",
            "valid Loss: 0.1942, Acc: 0.9670\n",
            "Epoch completed in 2m 3s at Sun Dec 23 06:49:28 2018\n",
            "--------------------------------------------------\n",
            "Epoch 48/49 started at Sun Dec 23 06:49:28 2018\n",
            "train Loss: 0.2527, Acc: 0.9534\n",
            "valid Loss: 0.1921, Acc: 0.9633\n",
            "Epoch completed in 2m 3s at Sun Dec 23 06:51:31 2018\n",
            "--------------------------------------------------\n",
            "Epoch 49/49 started at Sun Dec 23 06:51:31 2018\n",
            "train Loss: 0.2450, Acc: 0.9533\n",
            "valid Loss: 0.1969, Acc: 0.9621\n",
            "Epoch completed in 2m 3s at Sun Dec 23 06:53:34 2018\n",
            "Training complete in 30m 44s at Sun Dec 23 06:53:34 2018\n",
            "Uploaded file with ID 1OaxVf3KxYxPSQ_XPq_0KQROY0Z9y5L8D\n"
          ],
          "name": "stdout"
        }
      ]
    },
    {
      "metadata": {
        "id": "UZMYbL6OPgSY",
        "colab_type": "text"
      },
      "cell_type": "markdown",
      "source": [
        "# Inference for classification\n",
        "\n",
        "Now you'll write a function to use a trained network for inference. That is, you'll pass an image into the network and predict the class of the flower in the image. Write a function called `predict` that takes an image and a model, then returns the top $K$ most likely classes along with the probabilities. It should look like \n",
        "\n",
        "```python\n",
        "probs, classes = predict(image_path, model)\n",
        "print(probs)\n",
        "print(classes)\n",
        "> [ 0.01558163  0.01541934  0.01452626  0.01443549  0.01407339]\n",
        "> ['70', '3', '45', '62', '55']\n",
        "```\n",
        "\n",
        "First you'll need to handle processing the input image such that it can be used in your network. \n",
        "\n",
        "## Image Preprocessing\n",
        "\n",
        "You'll want to use `PIL` to load the image ([documentation](https://pillow.readthedocs.io/en/latest/reference/Image.html)). It's best to write a function that preprocesses the image so it can be used as input for the model. This function should process the images in the same manner used for training. \n",
        "\n",
        "First, resize the images where the shortest side is 256 pixels, keeping the aspect ratio. This can be done with the [`thumbnail`](http://pillow.readthedocs.io/en/3.1.x/reference/Image.html#PIL.Image.Image.thumbnail) or [`resize`](http://pillow.readthedocs.io/en/3.1.x/reference/Image.html#PIL.Image.Image.thumbnail) methods. Then you'll need to crop out the center 224x224 portion of the image.\n",
        "\n",
        "Color channels of images are typically encoded as integers 0-255, but the model expected floats 0-1. You'll need to convert the values. It's easiest with a Numpy array, which you can get from a PIL image like so `np_image = np.array(pil_image)`.\n",
        "\n",
        "As before, the network expects the images to be normalized in a specific way. For the means, it's `[0.485, 0.456, 0.406]` and for the standard deviations `[0.229, 0.224, 0.225]`. You'll want to subtract the means from each color channel, then divide by the standard deviation. \n",
        "\n",
        "And finally, PyTorch expects the color channel to be the first dimension but it's the third dimension in the PIL image and Numpy array. You can reorder dimensions using [`ndarray.transpose`](https://docs.scipy.org/doc/numpy-1.13.0/reference/generated/numpy.ndarray.transpose.html). The color channel needs to be first and retain the order of the other two dimensions."
      ]
    },
    {
      "metadata": {
        "id": "xEzve8u7PgSZ",
        "colab_type": "code",
        "colab": {}
      },
      "cell_type": "code",
      "source": [
        "def process_image(image):\n",
        "    ''' Scales, crops, and normalizes a PIL image for a PyTorch model,\n",
        "        returns an Numpy array\n",
        "    '''\n",
        "    \n",
        "    # TODO: Process a PIL image for use in a PyTorch model\n",
        "    tensor_image = data_transforms['valid'](image)\n",
        "    return tensor_image.unsqueeze_(0)    "
      ],
      "execution_count": 0,
      "outputs": []
    },
    {
      "metadata": {
        "id": "taglIVcZPgSc",
        "colab_type": "text"
      },
      "cell_type": "markdown",
      "source": [
        "To check your work, the function below converts a PyTorch tensor and displays it in the notebook. If your `process_image` function works, running the output through this function should return the original image (except for the cropped out portions)."
      ]
    },
    {
      "metadata": {
        "id": "6c6VVAm_PgSc",
        "colab_type": "code",
        "colab": {}
      },
      "cell_type": "code",
      "source": [
        "def imshow(image, ax=None, title=None):\n",
        "    \"\"\"Imshow for Tensor.\"\"\"\n",
        "    if ax is None:\n",
        "        fig, ax = plt.subplots()\n",
        "    \n",
        "    # PyTorch tensors assume the color channel is the first dimension\n",
        "    # but matplotlib assumes is the third dimension\n",
        "    image = image.numpy().transpose((1, 2, 0))\n",
        "    \n",
        "    # Undo preprocessing\n",
        "    mean = np.array([0.485, 0.456, 0.406])\n",
        "    std = np.array([0.229, 0.224, 0.225])\n",
        "    image = std * image + mean\n",
        "    \n",
        "    # Image needs to be clipped between 0 and 1 or it looks like noise when displayed\n",
        "    image = np.clip(image, 0, 1)\n",
        "    \n",
        "    ax.imshow(image)\n",
        "    \n",
        "    return ax"
      ],
      "execution_count": 0,
      "outputs": []
    },
    {
      "metadata": {
        "id": "9_wrQY9wPgSe",
        "colab_type": "text"
      },
      "cell_type": "markdown",
      "source": [
        "## Class Prediction\n",
        "\n",
        "Once you can get images in the correct format, it's time to write a function for making predictions with your model. A common practice is to predict the top 5 or so (usually called top-$K$) most probable classes. You'll want to calculate the class probabilities then find the $K$ largest values.\n",
        "\n",
        "To get the top $K$ largest values in a tensor use [`x.topk(k)`](http://pytorch.org/docs/master/torch.html#torch.topk). This method returns both the highest `k` probabilities and the indices of those probabilities corresponding to the classes. You need to convert from these indices to the actual class labels using `class_to_idx` which hopefully you added to the model or from an `ImageFolder` you used to load the data ([see here](#Save-the-checkpoint)). Make sure to invert the dictionary so you get a mapping from index to class as well.\n",
        "\n",
        "Again, this method should take a path to an image and a model checkpoint, then return the probabilities and classes.\n",
        "\n",
        "```python\n",
        "probs, classes = predict(image_path, model)\n",
        "print(probs)\n",
        "print(classes)\n",
        "> [ 0.01558163  0.01541934  0.01452626  0.01443549  0.01407339]\n",
        "> ['70', '3', '45', '62', '55']\n",
        "```"
      ]
    },
    {
      "metadata": {
        "id": "KGiB7S-vPgSg",
        "colab_type": "code",
        "colab": {}
      },
      "cell_type": "code",
      "source": [
        "def predict(image_path, model, topk=5):\n",
        "    ''' Predict the class (or classes) of an image using a trained deep learning model.\n",
        "    '''\n",
        "    # TODO: Implement the code to predict the class from an image file\n",
        "    pil_image = Image.open(image_path)\n",
        "    tensor_image = process_image(pil_image).to(device)\n",
        "    result = model(tensor_image)"
      ],
      "execution_count": 0,
      "outputs": []
    },
    {
      "metadata": {
        "id": "up_cdl7RPgSj",
        "colab_type": "text"
      },
      "cell_type": "markdown",
      "source": [
        "## Sanity Checking\n",
        "\n",
        "Now that you can use a trained model for predictions, check to make sure it makes sense. Even if the validation accuracy is high, it's always good to check that there aren't obvious bugs. Use `matplotlib` to plot the probabilities for the top 5 classes as a bar graph, along with the input image. It should look like this:\n",
        "\n",
        "<img src='https://github.com/seetd/pytorch_challenge/blob/master/assets/inference_example.png?raw=1' width=300px>\n",
        "\n",
        "You can convert from the class integer encoding to actual flower names with the `cat_to_name.json` file (should have been loaded earlier in the notebook). To show a PyTorch tensor as an image, use the `imshow` function defined above."
      ]
    },
    {
      "metadata": {
        "id": "mzaE3ulrPgSk",
        "colab_type": "code",
        "colab": {}
      },
      "cell_type": "code",
      "source": [
        "# TODO: Display an image along with the top 5 classes"
      ],
      "execution_count": 0,
      "outputs": []
    }
  ]
}